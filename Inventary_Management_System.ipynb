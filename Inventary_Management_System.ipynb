{
  "nbformat": 4,
  "nbformat_minor": 0,
  "metadata": {
    "colab": {
      "name": "Inventary_Management_System.ipynb",
      "provenance": [],
      "collapsed_sections": []
    },
    "kernelspec": {
      "display_name": "Python 3",
      "name": "python3"
    },
    "language_info": {
      "name": "python"
    }
  },
  "cells": [
    {
      "cell_type": "code",
      "metadata": {
        "id": "ptC4KGvyQxoC"
      },
      "source": [
        "#importing necessary libraries\n",
        "import json"
      ],
      "execution_count": null,
      "outputs": []
    },
    {
      "cell_type": "markdown",
      "metadata": {
        "id": "iBOVvw-tQ6d9"
      },
      "source": [
        "Product details dataset"
      ]
    },
    {
      "cell_type": "code",
      "metadata": {
        "id": "6R-B6wZTSpDX"
      },
      "source": [
        "products = {\n",
        "    1001 : {\"name\":\"Pepsi Can\",               \"price\":153,  \"quan\":50,  \"expiry\":\"20 oct 2023\",  \"brand\":\"Pepsi\"},\n",
        "    1002 : {\"name\":\"Tata Salt\",               \"price\":20,   \"quan\":130, \"expiry\":\"12 jan 2022\",  \"brand\":\"Tata\"},\n",
        "    1003 : {\"name\":\"Tata Tea Gold\",           \"price\":48,   \"quan\":145, \"expiry\":\"10 mar 2023\",  \"brand\":\"Tata\"},\n",
        "    1004 : {\"name\":\"Turmeric Powder\",         \"price\":52,   \"quan\":122, \"expiry\":\"23 jun 2023\",  \"brand\":\"Tata\"},\n",
        "    1005 : {\"name\":\"Quaker Oats\",             \"price\":285,  \"quan\":30,  \"expiry\":\"30 oct 2022\",  \"brand\":\"Quaker\"},\n",
        "    1006 : {\"name\":\"Saffola Active\",          \"price\":207,  \"quan\":58,  \"expiry\":\"29 jan 2022\",  \"brand\":\"Saffola\"},\n",
        "    1007 : {\"name\":\"Kitkat Desert\",           \"price\":55,   \"quan\":59,  \"expiry\":\"31 aug 2022\",  \"brand\":\"Nestle\"},\n",
        "    1008 : {\"name\":\"Dark Fantasy Choco Fills\",\"price\":90,   \"quan\":90,  \"expiry\":\"21 feb 2022\",  \"brand\":\"Dark Fantasy\"},\n",
        "    1009 : {\"name\":\"Candyman Fantasy\",        \"price\":80,   \"quan\":95,  \"expiry\":\"28 dec 2021\",  \"brand\":\"Candyman Fantastik\"},\n",
        "    1010 : {\"name\":\"Lotte Choco Pie\",         \"price\":110,  \"quan\":95,  \"expiry\":\"01 jun 2022\",  \"brand\":\"Lotte\"},\n",
        "    1011 : {\"name\":\"Britania Chocolate cake\", \"price\":120,  \"quan\":100, \"expiry\":\"15 jul 2022\",  \"brand\":\"Britania\"},\n",
        "    1012 : {\"name\":\"Pillsbury cookes cake\",   \"price\":90,   \"quan\":200, \"expiry\":\"02 dec 2021\",  \"brand\":\"Pillsbury\"},\n",
        "    1013 : {\"name\":\"Kraft Oreo Soft Cake\",    \"price\":249,  \"quan\":120, \"expiry\":\"30 dec 2021\",  \"brand\":\"Ore0\"},\n",
        "    1014 : {\"name\":\"Mom's Magic Cashew\",      \"price\":80,   \"quan\":180, \"expiry\":\"19 mar 2022\",  \"brand\":\"Sunfeast\"},\n",
        "    1015 : {\"name\":\"Cadbury Oreo chacolate\",  \"price\":60,   \"quan\":185, \"expiry\":\"19 feb 2022\",  \"brand\":\"Cadbury\"},\n",
        "    1016 : {\"name\":\"Betty Croker Pancake\",    \"price\":346,  \"quan\":190, \"expiry\":\"15 jan 2022\",  \"brand\":\"Betty Croker\"},\n",
        "    1017 : {\"name\":\"Parle G Original\",        \"price\":67,   \"quan\":140, \"expiry\":\"13 dec 2011\",  \"brand\":\"Parle\"},\n",
        "    1018 : {\"name\":\"Lays Potato Chips\",       \"price\":30,   \"quan\":450, \"expiry\":\"14 feb 2023\",  \"brand\":\"Lay's\"},\n",
        "    1019 : {\"name\":\"Bingo! Mad Angle\",        \"price\":25,   \"quan\":440, \"expiry\":\"20 dec 2023\",  \"brand\":\"Bingo!\"},\n",
        "    1020 : {\"name\":\"Kellogg's pringles\",      \"price\":85,   \"quan\":400, \"expiry\":\"25 jan 2024\",  \"brand\":\"Kellog's\"},\n",
        "    1021 : {\"name\":\"Dorito's Nacho Chips\",    \"price\":90,   \"quan\":360, \"expiry\":\"22 jan 2023\",  \"brand\":\"Dorito's\"},\n",
        "    1022 : {\"name\":\"Thums Up Soft Drink\",     \"price\":40,   \"quan\":60,  \"expiry\":\"20 dec 2024\",  \"brand\":\"Thums Up\"},\n",
        "    1023 : {\"name\":\"Svami Soda Water\",        \"price\":55,   \"quan\":70,  \"expiry\":\"20 jun 2023\",  \"brand\":\"Svami\"},\n",
        "    1024 : {\"name\":\"Coca-Cola\",               \"price\":65,   \"quan\":60,  \"expiry\":\"22 jul 2023\",  \"brand\":\"Coca Cola\"},\n",
        "    1025 : {\"name\":\"Sprite Lime Flavor\",      \"price\":89,   \"quan\":40,  \"expiry\":\"20 nov 2023\",  \"brand\":\"Sprite\"},\n",
        "    1026 : {\"name\":\"Colgate Maxfresh\",        \"price\":215,  \"quan\":55,  \"expiry\":\"20 jun 2024\",  \"brand\":\"Colgate\"},\n",
        "    1027 : {\"name\":\"Pepsodent Gum Care\",      \"price\":300,  \"quan\":150, \"expiry\":\"15 jul 2022\",  \"brand\":\"Pepsodent\"},\n",
        "    1028 : {\"name\":\"Dabur Amla Hair Oil\",     \"price\":247,  \"quan\":100, \"expiry\":\"10 aug 2024\",  \"brand\":\"DABUR\"},\n",
        "    1029 : {\"name\":\"Nivea Men Face Wash\",     \"price\":149,  \"quan\":98,  \"expiry\":\"31 jul 2022\",  \"brand\":\"Nivea\"},\n",
        "    1030 : {\"name\":\"Himalaya Herbal Face wash\",\"price\":104, \"quan\":200, \"expiry\":\"22 may 2022\",  \"brand\":\"Himalaya\"}}"
      ],
      "execution_count": null,
      "outputs": []
    },
    {
      "cell_type": "markdown",
      "metadata": {
        "id": "fLrtIywoRHum"
      },
      "source": [
        "Making a json file ,performing write and read operation"
      ]
    },
    {
      "cell_type": "code",
      "metadata": {
        "id": "oALM0U-UROoF"
      },
      "source": [
        "js = json.dumps(products) # converts the dictionary into string"
      ],
      "execution_count": null,
      "outputs": []
    },
    {
      "cell_type": "code",
      "metadata": {
        "colab": {
          "base_uri": "https://localhost:8080/",
          "height": 137
        },
        "id": "tfzheC2pRizU",
        "outputId": "8a280a52-a43c-4970-a915-376922884fd6"
      },
      "source": [
        "js"
      ],
      "execution_count": null,
      "outputs": [
        {
          "output_type": "execute_result",
          "data": {
            "application/vnd.google.colaboratory.intrinsic+json": {
              "type": "string"
            },
            "text/plain": [
              "'{\"1001\": {\"name\": \"Pepsi Can\", \"price\": 153, \"quan\": 50, \"expiry\": \"20 oct 2023\", \"brand\": \"Pepsi\"}, \"1002\": {\"name\": \"Tata Salt\", \"price\": 20, \"quan\": 130, \"expiry\": \"12 jan 2022\", \"brand\": \"Tata\"}, \"1003\": {\"name\": \"Tata Tea Gold\", \"price\": 48, \"quan\": 145, \"expiry\": \"10 mar 2023\", \"brand\": \"Tata\"}, \"1004\": {\"name\": \"Turmeric Powder\", \"price\": 52, \"quan\": 122, \"expiry\": \"23 jun 2023\", \"brand\": \"Tata\"}, \"1005\": {\"name\": \"Quaker Oats\", \"price\": 285, \"quan\": 30, \"expiry\": \"30 oct 2022\", \"brand\": \"Quaker\"}, \"1006\": {\"name\": \"Saffola Active\", \"price\": 207, \"quan\": 58, \"expiry\": \"29 jan 2022\", \"brand\": \"Saffola\"}, \"1007\": {\"name\": \"Kitkat Desert\", \"price\": 55, \"quan\": 59, \"expiry\": \"31 aug 2022\", \"brand\": \"Nestle\"}, \"1008\": {\"name\": \"Dark Fantasy Choco Fills\", \"price\": 90, \"quan\": 90, \"expiry\": \"21 feb 2022\", \"brand\": \"Dark Fantasy\"}, \"1009\": {\"name\": \"Candyman Fantasy\", \"price\": 80, \"quan\": 95, \"expiry\": \"28 dec 2021\", \"brand\": \"Candyman Fantastik\"}, \"1010\": {\"name\": \"Lotte Choco Pie\", \"price\": 110, \"quan\": 95, \"expiry\": \"01 jun 2022\", \"brand\": \"Lotte\"}, \"1011\": {\"name\": \"Britania Chocolate cake\", \"price\": 120, \"quan\": 100, \"expiry\": \"15 jul 2022\", \"brand\": \"Britania\"}, \"1012\": {\"name\": \"Pillsbury cookes cake\", \"price\": 90, \"quan\": 200, \"expiry\": \"02 dec 2021\", \"brand\": \"Pillsbury\"}, \"1013\": {\"name\": \"Kraft Oreo Soft Cake\", \"price\": 249, \"quan\": 120, \"expiry\": \"30 dec 2021\", \"brand\": \"Ore0\"}, \"1014\": {\"name\": \"Mom\\'s Magic Cashew\", \"price\": 80, \"quan\": 180, \"expiry\": \"19 mar 2022\", \"brand\": \"Sunfeast\"}, \"1015\": {\"name\": \"Cadbury Oreo chacolate\", \"price\": 60, \"quan\": 185, \"expiry\": \"19 feb 2022\", \"brand\": \"Cadbury\"}, \"1016\": {\"name\": \"Betty Croker Pancake\", \"price\": 346, \"quan\": 190, \"expiry\": \"15 jan 2022\", \"brand\": \"Betty Croker\"}, \"1017\": {\"name\": \"Parle G Original\", \"price\": 67, \"quan\": 140, \"expiry\": \"13 dec 2011\", \"brand\": \"Parle\"}, \"1018\": {\"name\": \"Lays Potato Chips\", \"price\": 30, \"quan\": 450, \"expiry\": \"14 feb 2023\", \"brand\": \"Lay\\'s\"}, \"1019\": {\"name\": \"Bingo! Mad Angle\", \"price\": 25, \"quan\": 440, \"expiry\": \"20 dec 2023\", \"brand\": \"Bingo!\"}, \"1020\": {\"name\": \"Kellogg\\'s pringles\", \"price\": 85, \"quan\": 400, \"expiry\": \"25 jan 2024\", \"brand\": \"Kellog\\'s\"}, \"1021\": {\"name\": \"Dorito\\'s Nacho Chips\", \"price\": 90, \"quan\": 360, \"expiry\": \"22 jan 2023\", \"brand\": \"Dorito\\'s\"}, \"1022\": {\"name\": \"Thums Up Soft Drink\", \"price\": 40, \"quan\": 60, \"expiry\": \"20 dec 2024\", \"brand\": \"Thums Up\"}, \"1023\": {\"name\": \"Svami Soda Water\", \"price\": 55, \"quan\": 70, \"expiry\": \"20 jun 2023\", \"brand\": \"Svami\"}, \"1024\": {\"name\": \"Coca-Cola\", \"price\": 65, \"quan\": 60, \"expiry\": \"22 jul 2023\", \"brand\": \"Coca Cola\"}, \"1025\": {\"name\": \"Sprite Lime Flavor\", \"price\": 89, \"quan\": 40, \"expiry\": \"20 nov 2023\", \"brand\": \"Sprite\"}, \"1026\": {\"name\": \"Colgate Maxfresh\", \"price\": 215, \"quan\": 55, \"expiry\": \"20 jun 2024\", \"brand\": \"Colgate\"}, \"1027\": {\"name\": \"Pepsodent Gum Care\", \"price\": 300, \"quan\": 150, \"expiry\": \"15 jul 2022\", \"brand\": \"Pepsodent\"}, \"1028\": {\"name\": \"Dabur Amla Hair Oil\", \"price\": 247, \"quan\": 100, \"expiry\": \"10 aug 2024\", \"brand\": \"DABUR\"}, \"1029\": {\"name\": \"Nivea Men Face Wash\", \"price\": 149, \"quan\": 98, \"expiry\": \"31 jul 2022\", \"brand\": \"Nivea\"}, \"1030\": {\"name\": \"Himalaya Herbal Face wash\", \"price\": 104, \"quan\": 200, \"expiry\": \"22 may 2022\", \"brand\": \"Himalaya\"}}'"
            ]
          },
          "metadata": {},
          "execution_count": 4
        }
      ]
    },
    {
      "cell_type": "code",
      "metadata": {
        "id": "y02ZUzLBRmCs"
      },
      "source": [
        "# storing the string in file \n",
        "fd = open(\"products.json\",\"w\") # open a file product.json in write mode\n",
        "fd.write(js) # write the converted string into product.json\n",
        "fd.close()"
      ],
      "execution_count": null,
      "outputs": []
    },
    {
      "cell_type": "markdown",
      "metadata": {
        "id": "g3frBeJoSObr"
      },
      "source": [
        "Read from Json file"
      ]
    },
    {
      "cell_type": "code",
      "metadata": {
        "id": "awEDUGTGSDPO"
      },
      "source": [
        "def read_json():\n",
        "  fd =open(\"products.json\",'r')\n",
        "  r = fd.read()\n",
        "  fd.close()\n",
        "  products =json.loads(r)\n",
        "  return products\n"
      ],
      "execution_count": null,
      "outputs": []
    },
    {
      "cell_type": "code",
      "metadata": {
        "colab": {
          "base_uri": "https://localhost:8080/"
        },
        "id": "2L26tHoXSDZx",
        "outputId": "352f6ce4-7d2d-40ad-d211-9cec759f5db0"
      },
      "source": [
        "products = read_json()\n",
        "products"
      ],
      "execution_count": null,
      "outputs": [
        {
          "output_type": "execute_result",
          "data": {
            "text/plain": [
              "{'1001': {'brand': 'Pepsi',\n",
              "  'expiry': '20 oct 2023',\n",
              "  'name': 'Pepsi Can',\n",
              "  'price': 153,\n",
              "  'quan': 50},\n",
              " '1002': {'brand': 'Tata',\n",
              "  'expiry': '12 jan 2022',\n",
              "  'name': 'Tata Salt',\n",
              "  'price': 20,\n",
              "  'quan': 130},\n",
              " '1003': {'brand': 'Tata',\n",
              "  'expiry': '10 mar 2023',\n",
              "  'name': 'Tata Tea Gold',\n",
              "  'price': 48,\n",
              "  'quan': 145},\n",
              " '1004': {'brand': 'Tata',\n",
              "  'expiry': '23 jun 2023',\n",
              "  'name': 'Turmeric Powder',\n",
              "  'price': 52,\n",
              "  'quan': 122},\n",
              " '1005': {'brand': 'Quaker',\n",
              "  'expiry': '30 oct 2022',\n",
              "  'name': 'Quaker Oats',\n",
              "  'price': 285,\n",
              "  'quan': 30},\n",
              " '1006': {'brand': 'Saffola',\n",
              "  'expiry': '29 jan 2022',\n",
              "  'name': 'Saffola Active',\n",
              "  'price': 207,\n",
              "  'quan': 58},\n",
              " '1007': {'brand': 'Nestle',\n",
              "  'expiry': '31 aug 2022',\n",
              "  'name': 'Kitkat Desert',\n",
              "  'price': 55,\n",
              "  'quan': 59},\n",
              " '1008': {'brand': 'Dark Fantasy',\n",
              "  'expiry': '21 feb 2022',\n",
              "  'name': 'Dark Fantasy Choco Fills',\n",
              "  'price': 90,\n",
              "  'quan': 90},\n",
              " '1009': {'brand': 'Candyman Fantastik',\n",
              "  'expiry': '28 dec 2021',\n",
              "  'name': 'Candyman Fantasy',\n",
              "  'price': 80,\n",
              "  'quan': 95},\n",
              " '1010': {'brand': 'Lotte',\n",
              "  'expiry': '01 jun 2022',\n",
              "  'name': 'Lotte Choco Pie',\n",
              "  'price': 110,\n",
              "  'quan': 95},\n",
              " '1011': {'brand': 'Britania',\n",
              "  'expiry': '15 jul 2022',\n",
              "  'name': 'Britania Chocolate cake',\n",
              "  'price': 120,\n",
              "  'quan': 100},\n",
              " '1012': {'brand': 'Pillsbury',\n",
              "  'expiry': '02 dec 2021',\n",
              "  'name': 'Pillsbury cookes cake',\n",
              "  'price': 90,\n",
              "  'quan': 200},\n",
              " '1013': {'brand': 'Ore0',\n",
              "  'expiry': '30 dec 2021',\n",
              "  'name': 'Kraft Oreo Soft Cake',\n",
              "  'price': 249,\n",
              "  'quan': 120},\n",
              " '1014': {'brand': 'Sunfeast',\n",
              "  'expiry': '19 mar 2022',\n",
              "  'name': \"Mom's Magic Cashew\",\n",
              "  'price': 80,\n",
              "  'quan': 180},\n",
              " '1015': {'brand': 'Cadbury',\n",
              "  'expiry': '19 feb 2022',\n",
              "  'name': 'Cadbury Oreo chacolate',\n",
              "  'price': 60,\n",
              "  'quan': 185},\n",
              " '1016': {'brand': 'Betty Croker',\n",
              "  'expiry': '15 jan 2022',\n",
              "  'name': 'Betty Croker Pancake',\n",
              "  'price': 346,\n",
              "  'quan': 190},\n",
              " '1017': {'brand': 'Parle',\n",
              "  'expiry': '13 dec 2011',\n",
              "  'name': 'Parle G Original',\n",
              "  'price': 67,\n",
              "  'quan': 140},\n",
              " '1018': {'brand': \"Lay's\",\n",
              "  'expiry': '14 feb 2023',\n",
              "  'name': 'Lays Potato Chips',\n",
              "  'price': 30,\n",
              "  'quan': 450},\n",
              " '1019': {'brand': 'Bingo!',\n",
              "  'expiry': '20 dec 2023',\n",
              "  'name': 'Bingo! Mad Angle',\n",
              "  'price': 25,\n",
              "  'quan': 440},\n",
              " '1020': {'brand': \"Kellog's\",\n",
              "  'expiry': '25 jan 2024',\n",
              "  'name': \"Kellogg's pringles\",\n",
              "  'price': 85,\n",
              "  'quan': 400},\n",
              " '1021': {'brand': \"Dorito's\",\n",
              "  'expiry': '22 jan 2023',\n",
              "  'name': \"Dorito's Nacho Chips\",\n",
              "  'price': 90,\n",
              "  'quan': 360},\n",
              " '1022': {'brand': 'Thums Up',\n",
              "  'expiry': '20 dec 2024',\n",
              "  'name': 'Thums Up Soft Drink',\n",
              "  'price': 40,\n",
              "  'quan': 60},\n",
              " '1023': {'brand': 'Svami',\n",
              "  'expiry': '20 jun 2023',\n",
              "  'name': 'Svami Soda Water',\n",
              "  'price': 55,\n",
              "  'quan': 70},\n",
              " '1024': {'brand': 'Coca Cola',\n",
              "  'expiry': '22 jul 2023',\n",
              "  'name': 'Coca-Cola',\n",
              "  'price': 65,\n",
              "  'quan': 60},\n",
              " '1025': {'brand': 'Sprite',\n",
              "  'expiry': '20 nov 2023',\n",
              "  'name': 'Sprite Lime Flavor',\n",
              "  'price': 89,\n",
              "  'quan': 40},\n",
              " '1026': {'brand': 'Colgate',\n",
              "  'expiry': '20 jun 2024',\n",
              "  'name': 'Colgate Maxfresh',\n",
              "  'price': 215,\n",
              "  'quan': 55},\n",
              " '1027': {'brand': 'Pepsodent',\n",
              "  'expiry': '15 jul 2022',\n",
              "  'name': 'Pepsodent Gum Care',\n",
              "  'price': 300,\n",
              "  'quan': 150},\n",
              " '1028': {'brand': 'DABUR',\n",
              "  'expiry': '10 aug 2024',\n",
              "  'name': 'Dabur Amla Hair Oil',\n",
              "  'price': 247,\n",
              "  'quan': 100},\n",
              " '1029': {'brand': 'Nivea',\n",
              "  'expiry': '31 jul 2022',\n",
              "  'name': 'Nivea Men Face Wash',\n",
              "  'price': 149,\n",
              "  'quan': 98},\n",
              " '1030': {'brand': 'Himalaya',\n",
              "  'expiry': '22 may 2022',\n",
              "  'name': 'Himalaya Herbal Face wash',\n",
              "  'price': 104,\n",
              "  'quan': 200}}"
            ]
          },
          "metadata": {},
          "execution_count": 7
        }
      ]
    },
    {
      "cell_type": "markdown",
      "metadata": {
        "id": "kpNPhrDVTDYJ"
      },
      "source": [
        "Adding new item in the dictionary and updating it in json file"
      ]
    },
    {
      "cell_type": "code",
      "metadata": {
        "id": "xaGqBwxpSDdh"
      },
      "source": [
        "def add_item(products,prod_id,name,price,quan,expiry,brand):\n",
        "  products[prod_id] = {\"name\":name,\"price\":price,\"quan\":quan,\"expiry\":expiry,\"brand\":brand}\n",
        "  js = json.dumps(products)\n",
        "  fd = open(\"products.json\",\"w\")\n",
        "  fd.write(js)\n",
        "  fd.close()\n",
        "def add_existing_item(products,quan,prod_id):\n",
        "  prev_quant =products[prod_id]['quan']\n",
        "  quan  = quan + prev_quant\n",
        "  products[prod_id]['quan']=quan\n",
        "  js = json.dumps(products)\n",
        "  fd = open(\"products.json\",\"w\")\n",
        "  fd.write(js)\n",
        "  fd.close()\n",
        "\n",
        "    \n",
        "    "
      ],
      "execution_count": null,
      "outputs": []
    },
    {
      "cell_type": "code",
      "metadata": {
        "id": "Pnp4_aqlSDpx"
      },
      "source": [
        "def main():\n",
        "  while(1):\n",
        "    print(\"Select one operation\",\"1 : add_item\",\"2:Print inventory record \",\"3:exit\")\n",
        "    choice =int(input())\n",
        "    if choice ==1:\n",
        "      prod_id = input(\"Enter the Product ID: \")\n",
        "      products = read_json()\n",
        "      if prod_id in products:\n",
        "        print(\"Product already exist please enter the quantity you would like to add\")\n",
        "        quan = int(input(\"Enter The Quantity of the Product you want to add: \"))\n",
        "        add_existing_item(products,quan,prod_id)\n",
        "      \n",
        "      else:\n",
        "        name = input(\"Enter the Name of the Product: \")\n",
        "        price = int(input(\"Enter the price per Item: \"))\n",
        "        quan = int(input(\"Enter The Quantity of the Product you want to add: \"))\n",
        "        expiry = input(\"Enter the expiry date of the Product: \")\n",
        "        brand = input(\"Enter the Brand of the product: \")\n",
        "        add_item(products,prod_id,name,price,quan,expiry,brand)\n",
        "      \n",
        "    elif choice ==2:\n",
        "      products =read_json()\n",
        "      print(products)  \n",
        "    if choice ==3:\n",
        "      break\n",
        "  "
      ],
      "execution_count": null,
      "outputs": []
    },
    {
      "cell_type": "code",
      "metadata": {
        "id": "QjTZ3MeHYqTB",
        "colab": {
          "base_uri": "https://localhost:8080/"
        },
        "outputId": "54d2e4ce-c85e-4852-e1cc-74026fd9a836"
      },
      "source": [
        "if __name__ == \"__main__\":\n",
        "    main()"
      ],
      "execution_count": null,
      "outputs": [
        {
          "name": "stdout",
          "output_type": "stream",
          "text": [
            "Select one operation 1 : add_item 2:Print inventory record  3:exit\n",
            "1\n",
            "Enter the Product ID: 1001\n",
            "Product already exist please enter the quantity you would like to add\n",
            "Enter The Quantity of the Product you want to add: 23\n",
            "Select one operation 1 : add_item 2:Print inventory record  3:exit\n",
            "2\n",
            "{'1001': {'name': 'Pepsi Can', 'price': 153, 'quan': 73, 'expiry': '20 oct 2023', 'brand': 'Pepsi'}, '1002': {'name': 'Tata Salt', 'price': 20, 'quan': 130, 'expiry': '12 jan 2022', 'brand': 'Tata'}, '1003': {'name': 'Tata Tea Gold', 'price': 48, 'quan': 145, 'expiry': '10 mar 2023', 'brand': 'Tata'}, '1004': {'name': 'Turmeric Powder', 'price': 52, 'quan': 122, 'expiry': '23 jun 2023', 'brand': 'Tata'}, '1005': {'name': 'Quaker Oats', 'price': 285, 'quan': 30, 'expiry': '30 oct 2022', 'brand': 'Quaker'}, '1006': {'name': 'Saffola Active', 'price': 207, 'quan': 58, 'expiry': '29 jan 2022', 'brand': 'Saffola'}, '1007': {'name': 'Kitkat Desert', 'price': 55, 'quan': 59, 'expiry': '31 aug 2022', 'brand': 'Nestle'}, '1008': {'name': 'Dark Fantasy Choco Fills', 'price': 90, 'quan': 90, 'expiry': '21 feb 2022', 'brand': 'Dark Fantasy'}, '1009': {'name': 'Candyman Fantasy', 'price': 80, 'quan': 95, 'expiry': '28 dec 2021', 'brand': 'Candyman Fantastik'}, '1010': {'name': 'Lotte Choco Pie', 'price': 110, 'quan': 95, 'expiry': '01 jun 2022', 'brand': 'Lotte'}, '1011': {'name': 'Britania Chocolate cake', 'price': 120, 'quan': 100, 'expiry': '15 jul 2022', 'brand': 'Britania'}, '1012': {'name': 'Pillsbury cookes cake', 'price': 90, 'quan': 200, 'expiry': '02 dec 2021', 'brand': 'Pillsbury'}, '1013': {'name': 'Kraft Oreo Soft Cake', 'price': 249, 'quan': 120, 'expiry': '30 dec 2021', 'brand': 'Ore0'}, '1014': {'name': \"Mom's Magic Cashew\", 'price': 80, 'quan': 180, 'expiry': '19 mar 2022', 'brand': 'Sunfeast'}, '1015': {'name': 'Cadbury Oreo chacolate', 'price': 60, 'quan': 185, 'expiry': '19 feb 2022', 'brand': 'Cadbury'}, '1016': {'name': 'Betty Croker Pancake', 'price': 346, 'quan': 190, 'expiry': '15 jan 2022', 'brand': 'Betty Croker'}, '1017': {'name': 'Parle G Original', 'price': 67, 'quan': 140, 'expiry': '13 dec 2011', 'brand': 'Parle'}, '1018': {'name': 'Lays Potato Chips', 'price': 30, 'quan': 450, 'expiry': '14 feb 2023', 'brand': \"Lay's\"}, '1019': {'name': 'Bingo! Mad Angle', 'price': 25, 'quan': 440, 'expiry': '20 dec 2023', 'brand': 'Bingo!'}, '1020': {'name': \"Kellogg's pringles\", 'price': 85, 'quan': 400, 'expiry': '25 jan 2024', 'brand': \"Kellog's\"}, '1021': {'name': \"Dorito's Nacho Chips\", 'price': 90, 'quan': 360, 'expiry': '22 jan 2023', 'brand': \"Dorito's\"}, '1022': {'name': 'Thums Up Soft Drink', 'price': 40, 'quan': 60, 'expiry': '20 dec 2024', 'brand': 'Thums Up'}, '1023': {'name': 'Svami Soda Water', 'price': 55, 'quan': 70, 'expiry': '20 jun 2023', 'brand': 'Svami'}, '1024': {'name': 'Coca-Cola', 'price': 65, 'quan': 60, 'expiry': '22 jul 2023', 'brand': 'Coca Cola'}, '1025': {'name': 'Sprite Lime Flavor', 'price': 89, 'quan': 40, 'expiry': '20 nov 2023', 'brand': 'Sprite'}, '1026': {'name': 'Colgate Maxfresh', 'price': 215, 'quan': 55, 'expiry': '20 jun 2024', 'brand': 'Colgate'}, '1027': {'name': 'Pepsodent Gum Care', 'price': 300, 'quan': 150, 'expiry': '15 jul 2022', 'brand': 'Pepsodent'}, '1028': {'name': 'Dabur Amla Hair Oil', 'price': 247, 'quan': 100, 'expiry': '10 aug 2024', 'brand': 'DABUR'}, '1029': {'name': 'Nivea Men Face Wash', 'price': 149, 'quan': 98, 'expiry': '31 jul 2022', 'brand': 'Nivea'}, '1030': {'name': 'Himalaya Herbal Face wash', 'price': 104, 'quan': 200, 'expiry': '22 may 2022', 'brand': 'Himalaya'}}\n",
            "Select one operation 1 : add_item 2:Print inventory record  3:exit\n",
            "1\n",
            "Enter the Product ID: 1031\n",
            "Enter the Name of the Product: Himalaya face powder\n",
            "Enter the price per Item: 243\n",
            "Enter The Quantity of the Product you want to add: 45\n",
            "Enter the expiry date of the Product: 24 May 2024\n",
            "Enter the Brand of the product: Himalaya\n",
            "Select one operation 1 : add_item 2:Print inventory record  3:exit\n",
            "2\n",
            "{'1001': {'name': 'Pepsi Can', 'price': 153, 'quan': 73, 'expiry': '20 oct 2023', 'brand': 'Pepsi'}, '1002': {'name': 'Tata Salt', 'price': 20, 'quan': 130, 'expiry': '12 jan 2022', 'brand': 'Tata'}, '1003': {'name': 'Tata Tea Gold', 'price': 48, 'quan': 145, 'expiry': '10 mar 2023', 'brand': 'Tata'}, '1004': {'name': 'Turmeric Powder', 'price': 52, 'quan': 122, 'expiry': '23 jun 2023', 'brand': 'Tata'}, '1005': {'name': 'Quaker Oats', 'price': 285, 'quan': 30, 'expiry': '30 oct 2022', 'brand': 'Quaker'}, '1006': {'name': 'Saffola Active', 'price': 207, 'quan': 58, 'expiry': '29 jan 2022', 'brand': 'Saffola'}, '1007': {'name': 'Kitkat Desert', 'price': 55, 'quan': 59, 'expiry': '31 aug 2022', 'brand': 'Nestle'}, '1008': {'name': 'Dark Fantasy Choco Fills', 'price': 90, 'quan': 90, 'expiry': '21 feb 2022', 'brand': 'Dark Fantasy'}, '1009': {'name': 'Candyman Fantasy', 'price': 80, 'quan': 95, 'expiry': '28 dec 2021', 'brand': 'Candyman Fantastik'}, '1010': {'name': 'Lotte Choco Pie', 'price': 110, 'quan': 95, 'expiry': '01 jun 2022', 'brand': 'Lotte'}, '1011': {'name': 'Britania Chocolate cake', 'price': 120, 'quan': 100, 'expiry': '15 jul 2022', 'brand': 'Britania'}, '1012': {'name': 'Pillsbury cookes cake', 'price': 90, 'quan': 200, 'expiry': '02 dec 2021', 'brand': 'Pillsbury'}, '1013': {'name': 'Kraft Oreo Soft Cake', 'price': 249, 'quan': 120, 'expiry': '30 dec 2021', 'brand': 'Ore0'}, '1014': {'name': \"Mom's Magic Cashew\", 'price': 80, 'quan': 180, 'expiry': '19 mar 2022', 'brand': 'Sunfeast'}, '1015': {'name': 'Cadbury Oreo chacolate', 'price': 60, 'quan': 185, 'expiry': '19 feb 2022', 'brand': 'Cadbury'}, '1016': {'name': 'Betty Croker Pancake', 'price': 346, 'quan': 190, 'expiry': '15 jan 2022', 'brand': 'Betty Croker'}, '1017': {'name': 'Parle G Original', 'price': 67, 'quan': 140, 'expiry': '13 dec 2011', 'brand': 'Parle'}, '1018': {'name': 'Lays Potato Chips', 'price': 30, 'quan': 450, 'expiry': '14 feb 2023', 'brand': \"Lay's\"}, '1019': {'name': 'Bingo! Mad Angle', 'price': 25, 'quan': 440, 'expiry': '20 dec 2023', 'brand': 'Bingo!'}, '1020': {'name': \"Kellogg's pringles\", 'price': 85, 'quan': 400, 'expiry': '25 jan 2024', 'brand': \"Kellog's\"}, '1021': {'name': \"Dorito's Nacho Chips\", 'price': 90, 'quan': 360, 'expiry': '22 jan 2023', 'brand': \"Dorito's\"}, '1022': {'name': 'Thums Up Soft Drink', 'price': 40, 'quan': 60, 'expiry': '20 dec 2024', 'brand': 'Thums Up'}, '1023': {'name': 'Svami Soda Water', 'price': 55, 'quan': 70, 'expiry': '20 jun 2023', 'brand': 'Svami'}, '1024': {'name': 'Coca-Cola', 'price': 65, 'quan': 60, 'expiry': '22 jul 2023', 'brand': 'Coca Cola'}, '1025': {'name': 'Sprite Lime Flavor', 'price': 89, 'quan': 40, 'expiry': '20 nov 2023', 'brand': 'Sprite'}, '1026': {'name': 'Colgate Maxfresh', 'price': 215, 'quan': 55, 'expiry': '20 jun 2024', 'brand': 'Colgate'}, '1027': {'name': 'Pepsodent Gum Care', 'price': 300, 'quan': 150, 'expiry': '15 jul 2022', 'brand': 'Pepsodent'}, '1028': {'name': 'Dabur Amla Hair Oil', 'price': 247, 'quan': 100, 'expiry': '10 aug 2024', 'brand': 'DABUR'}, '1029': {'name': 'Nivea Men Face Wash', 'price': 149, 'quan': 98, 'expiry': '31 jul 2022', 'brand': 'Nivea'}, '1030': {'name': 'Himalaya Herbal Face wash', 'price': 104, 'quan': 200, 'expiry': '22 may 2022', 'brand': 'Himalaya'}, '1031': {'name': 'Himalaya face powder', 'price': 243, 'quan': 45, 'expiry': '24 May 2024', 'brand': 'Himalaya'}}\n",
            "Select one operation 1 : add_item 2:Print inventory record  3:exit\n",
            "1\n",
            "Enter the Product ID: 1032\n",
            "Enter the Name of the Product: Nivea Talcum powder\n",
            "Enter the price per Item: 199\n",
            "Enter The Quantity of the Product you want to add: 78\n",
            "Enter the expiry date of the Product: 21 June 2023\n",
            "Enter the Brand of the product: Nivea\n",
            "Select one operation 1 : add_item 2:Print inventory record  3:exit\n",
            "3\n"
          ]
        }
      ]
    }
  ]
}