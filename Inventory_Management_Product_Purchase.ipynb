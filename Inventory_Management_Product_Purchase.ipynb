{
  "nbformat": 4,
  "nbformat_minor": 0,
  "metadata": {
    "colab": {
      "name": "Copy of Inventory_Management_Product_Purchase.ipynb",
      "provenance": []
    },
    "kernelspec": {
      "name": "python3",
      "display_name": "Python 3"
    },
    "language_info": {
      "name": "python"
    }
  },
  "cells": [
    {
      "cell_type": "code",
      "metadata": {
        "id": "N96HymjLB_gR"
      },
      "source": [
        "import json"
      ],
      "execution_count": null,
      "outputs": []
    },
    {
      "cell_type": "code",
      "metadata": {
        "id": "lJzBIB4JNmHf"
      },
      "source": [
        "fd =open(\"product_sales.json\",'x')"
      ],
      "execution_count": null,
      "outputs": []
    },
    {
      "cell_type": "code",
      "metadata": {
        "id": "gTmt1cwHG81t"
      },
      "source": [
        "sales=[]"
      ],
      "execution_count": null,
      "outputs": []
    },
    {
      "cell_type": "code",
      "metadata": {
        "colab": {
          "base_uri": "https://localhost:8080/"
        },
        "id": "NohuYaILAJBj",
        "outputId": "a561a276-7da6-4ad9-968d-b5bbeb4411dc"
      },
      "source": [
        "\n",
        "\n",
        "fd = open(\"products.json\",'r')\n",
        "r = fd.read()\n",
        "fd.close()\n",
        "\n",
        "products = json.loads(r)\n",
        "\n",
        "\n",
        "\n",
        "print(\"Welcome to shop\")\n",
        "\n",
        "\n",
        "ui_prod = input(\"Enter the product Id: \")\n",
        "ui_quan = int(input(\"Enter the quantity of the Product: \"))\n",
        "\n",
        "for i in products.keys():\n",
        "    while ui_prod == i:\n",
        "        if ui_quan <= products[i]['quan']:\n",
        "            print(\"****************************************\")\n",
        "            print(\"             product:\",products[ui_prod]['name'])\n",
        "            print(\"               price:\",products[ui_prod]['price'])\n",
        "            print(\"         Expiry date:\",products[ui_prod]['expiry'])\n",
        "            print(\" Manufacturing Brand:\",products[ui_prod]['brand'])\n",
        "            print(\"****************************************\")\n",
        "            print(\"----------BILLING DETAILS:---------- \")\n",
        "            print(\"Total Amount: \",products[ui_prod]['price']*ui_quan) \n",
        "            print(\"Enjoy Your Day\")\n",
        "            print(\"Thank You. Visit Again\")\n",
        "            print(\"**********************************\")\n",
        "            products[ui_prod][\"quan\"] = products[ui_prod][\"quan\"] - ui_quan\n",
        "            num = len(sales)+1\n",
        "            sales.append([num,ui_prod,products[ui_prod]['name'],ui_quan,products[ui_prod]['price']*ui_quan])\n",
        "            \n",
        "\n",
        "        else:\n",
        "            print(\"Sorry. Stock of product you enterd is: \",products[ui_prod]['quan'],\"\\nPlease accept our apologies for this inconvenience\")\n",
        "        break\n",
        "if ui_prod not in products.keys():\n",
        "   print(\"Sorry. No product found for ID: \",ui_prod,\"\\Please enter valid product ID\")\n",
        "    \n",
        "    \n",
        "js = json.dumps(products)\n",
        "\n",
        "fd = open(\"products.json\",'w')\n",
        "fd.write(js)\n",
        "fd.close()\n",
        "\n",
        "st = json.dumps(sales)\n",
        "fd = open(\"sales.json\",\"w\")\n",
        "fd.write(st)\n",
        "fd.close()\n",
        "     \n",
        "\n",
        "\n",
        "\n"
      ],
      "execution_count": null,
      "outputs": [
        {
          "output_type": "stream",
          "name": "stdout",
          "text": [
            "Welcome to shop\n",
            "Enter the product Id: 1032\n",
            "Enter the quantity of the Product: 5\n",
            "****************************************\n",
            "             product: Nivea Talcum powder\n",
            "               price: 199\n",
            "         Expiry date: 21 June 2023\n",
            " Manufacturing Brand: Nivea\n",
            "****************************************\n",
            "----------BILLING DETAILS:---------- \n",
            "Total Amount:  995\n",
            "Enjoy Your Day\n",
            "Thank You. Visit Again\n",
            "**********************************\n"
          ]
        }
      ]
    }
  ]
}